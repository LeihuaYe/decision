{
  "nbformat": 4,
  "nbformat_minor": 0,
  "metadata": {
    "colab": {
      "name": "negi_wooldridge_covariates.ipynb",
      "provenance": [],
      "collapsed_sections": [],
      "authorship_tag": "ABX9TyMhcqkpTAF60fLvwlNvcMuu",
      "include_colab_link": true
    },
    "kernelspec": {
      "display_name": "Python 3",
      "name": "python3"
    },
    "language_info": {
      "name": "python"
    }
  },
  "cells": [
    {
      "cell_type": "markdown",
      "metadata": {
        "id": "view-in-github",
        "colab_type": "text"
      },
      "source": [
        "<a href=\"https://colab.research.google.com/github/kyleco/decision/blob/master/negi_wooldridge_covariates.ipynb\" target=\"_parent\"><img src=\"https://colab.research.google.com/assets/colab-badge.svg\" alt=\"Open In Colab\"/></a>"
      ]
    },
    {
      "cell_type": "code",
      "metadata": {
        "id": "nABEjJ86MwL6",
        "colab": {
          "base_uri": "https://localhost:8080/"
        },
        "outputId": "e9986db8-38df-4369-c508-f15b1b64b8ce"
      },
      "source": [
        "import pandas as pd\n",
        "import numpy as np\n",
        "import statsmodels.formula.api as smf\n",
        "import progressbar\n",
        "import seaborn as sns\n",
        "import matplotlib.pyplot as plt"
      ],
      "execution_count": 1,
      "outputs": [
        {
          "output_type": "stream",
          "name": "stderr",
          "text": [
            "/usr/local/lib/python3.7/dist-packages/statsmodels/tools/_testing.py:19: FutureWarning: pandas.util.testing is deprecated. Use the functions in the public API at pandas.testing instead.\n",
            "  import pandas.util.testing as tm\n"
          ]
        }
      ]
    },
    {
      "cell_type": "code",
      "metadata": {
        "id": "RDZ5Z-CWM2f6"
      },
      "source": [
        "def population(coefset , N, p_treat):\n",
        "  K1 = np.random.normal(scale=2, size=N)\n",
        "  K2 = np.random.normal(scale=2, size=N)\n",
        "  V = np.random.normal(scale=1, size=N)\n",
        "  V1 = np.random.normal(scale=1, size=N)\n",
        "\n",
        "  X1 = K1 + V\n",
        "  X2 = ((K2 + V / 2) > 0).astype('float')\n",
        "\n",
        "  G = 1 + np.random.binomial(n=1, p=p_treat, size=N)\n",
        "  R1 = np.random.normal(scale=1, size=N)\n",
        "  R2 = (3 / (2 ** 0.5)) * (R1 + V1)\n",
        "\n",
        "  gamma1 = coefset[1]\n",
        "  gamma2 = coefset[2]\n",
        "  Y1 = gamma1[0]  + gamma1[1] * X1 +  gamma1[2] * X2 + gamma1[3] * X1 * X2 + R1\n",
        "  Y2 = gamma2[0]  + gamma2[1] * X1 +  gamma2[2] * X2 + gamma2[3] * X1 * X2 + R2\n",
        "\n",
        "  Y = Y1 * (G==1) + Y2 * (G==2)\n",
        "\n",
        "  df = pd.DataFrame({'y': Y, 'x1': X1, 'x2': X2, 'x1x2': X1 * X2, 'g': G})\n",
        "  return df"
      ],
      "execution_count": 2,
      "outputs": []
    },
    {
      "cell_type": "code",
      "metadata": {
        "id": "KgvrYd50NOJ1"
      },
      "source": [
        "\n",
        "# Simple difference in means\n",
        "def sm(df):\n",
        "  return df.groupby('g')['y'].mean().diff()[2]\n",
        "\n",
        "\n",
        "# Full regression adjustment\n",
        "def fra(df):\n",
        "  x1dot = df.x1 - df.x1.mean()\n",
        "  x2dot = df.x2 - df.x2.mean()\n",
        "  x1x2dot = df.x1x2 - (df.x1x2).mean()\n",
        "  r = smf.ols(\"y ~ I(g==2) + x1 + x2 + x1x2 + I(g==2):(x1dot + x2dot + x1x2dot)\", df).fit()\n",
        "  return r.params['I(g == 2)[T.True]']\n",
        "\n",
        "# Alternative implementation equivalent to fra\n",
        "# def sra(df):\n",
        "#   r1 = smf.ols(\"y ~ x1 + x2 + x1:x2\", df.query(\"g==1\")).fit()\n",
        "#   r2 = smf.ols(\"y ~ x1 + x2 + x1:x2\", df.query(\"g==2\")).fit()\n",
        "#   return r2.predict(df).mean() - r1.predict(df).mean()\n",
        "\n",
        "# Pooled regression adjustment\n",
        "def pra(df):\n",
        "  r = smf.ols(\"y ~ I(g==2) + x1 + x2 + x1x2\", df).fit()\n",
        "  return r.params['I(g == 2)[T.True]']\n",
        "\n",
        "\n",
        "# CUPED (adapted for multiple covariates)\n",
        "# \"The optimal θ turns out to be the ordinary least square (OLS) solution of regressing (centered) Y on (centered) X, \"\n",
        "# https://exp-platform.com/Documents/2013-02-CUPED-ImprovingSensitivityOfControlledExperiments.pdf \n",
        "def cuped(df):\n",
        "  # Regression based on pooled data. For convenience, not demeaning. Including intercept.\n",
        "  r = smf.ols(\"y ~ x1 + x2 + x1x2\", df).fit()\n",
        "  Y_adust_treat = (df.query(\"g==2\")['y'].mean()  - r.predict(df.query(\"g==2\").mean()))\n",
        "  Y_adust_control = (df.query(\"g==1\")['y'].mean() - r.predict(df.query(\"g==1\").mean()))\n",
        "  diff = Y_adust_treat - Y_adust_control\n",
        "  return diff.values[0]\n",
        "\n",
        "\n",
        "estimators = {\n",
        "    'sm': sm,\n",
        "    'fra': fra,\n",
        "    'pra': pra, \n",
        "    'cuped': cuped\n",
        "    }\n",
        "\n",
        "def fit(df):\n",
        "  return {k: estimator(df) for k, estimator in estimators.items()}"
      ],
      "execution_count": 53,
      "outputs": []
    },
    {
      "cell_type": "code",
      "metadata": {
        "id": "HasNcFlBAkED"
      },
      "source": [
        "class Simulator:\n",
        "  def __init__(self, dgps):\n",
        "    # Generate each poulation\n",
        "    self.populations = {k: population(**dgp) for k, dgp in dgps.items()}\n",
        "    # Calculate population ATE\n",
        "    self.ates = {k: sm(pop) for k, pop in self.populations.items()}\n",
        "  \n",
        "  def simulate_estimates(self, k, samples, sample_size):\n",
        "    pop = self.populations[k]\n",
        "    estimates = pd.DataFrame([fit(pop.sample(sample_size)) for _ in progressbar.progressbar(range(samples))])\n",
        "    # Subtract the true ATE so we can look at bias \n",
        "    estimates = estimates - self.ates[k]\n",
        "    estimates['population'] = k\n",
        "    return estimates\n",
        "\n",
        "  def simulate_all(self, samples, sample_size):\n",
        "    return {k: simulator.simulate_estimates(k, samples, sample_size) for k, pop in self.populations.items()}"
      ],
      "execution_count": 8,
      "outputs": []
    },
    {
      "cell_type": "code",
      "metadata": {
        "id": "i_2ksrrwOM40"
      },
      "source": [
        "# These are the \"low\" parameters from the simulations in Negi and Wooldridge (2020).\n",
        "# Source: https://arxiv.org/pdf/2010.01800.pdf\n",
        "coefs_negi_wooldridge_2020_low = {\n",
        "    1: [0, 0.2, 0.1, 0.1],\n",
        "    2: [1, 1.2, -1, -1]\n",
        "}\n",
        "\n",
        "# Alternative coefficients with higher heterogeneity\n",
        "coefs_high_heterogeneity = {\n",
        "    1: [0, -1, 0.8, -0.3],\n",
        "    2: [1, 2.5, -1, 2.5]\n",
        "}\n",
        "\n",
        "# Basic specification with only one covariate\n",
        "coefs_basic = {\n",
        "    1: [0, 2, 0, 0],\n",
        "    2: [0, 2, 0, 0]\n",
        "}\n",
        "\n",
        "# Population size is 1M as in the Negi-Wooldridge simulations\n",
        "N = 10 ** 6\n",
        "\n",
        "# Three scenarios. The NW2020 from the paper. A more challenging version\n",
        "# with 90/10 randomization and high heterogeneity. And a basic one.\n",
        "simulation_dgps = {\n",
        "    \"negi_wooldridge_2020_low\": {'N': N, 'p_treat': 0.5, 'coefset': coefs_negi_wooldridge_2020_low},\n",
        "    \"negi_wooldridge_2020_low_10\": {'N': N, 'p_treat': 0.1, 'coefset': coefs_negi_wooldridge_2020_low},\n",
        "    \"challenge\": {'N': N, 'p_treat': 0.1, 'coefset': coefs_high_heterogeneity},\n",
        "    \"basic\": {'N': N, 'p_treat': 0.5, 'coefset': coefs_basic},\n",
        "}"
      ],
      "execution_count": 106,
      "outputs": []
    },
    {
      "cell_type": "code",
      "metadata": {
        "colab": {
          "base_uri": "https://localhost:8080/"
        },
        "id": "G-UEMdfr-lwF",
        "outputId": "54eed865-8b36-4bdf-e183-e31765adce6b"
      },
      "source": [
        "# Run the simulations. This can take a while.\n",
        "\n",
        "simulator = Simulator(simulation_dgps)\n",
        "demeaned_estimates = simulator.simulate_all(samples=5000, sample_size=1000)\n",
        "dx = pd.concat(demeaned_estimates.values(), axis=0).set_index('population', append=True)"
      ],
      "execution_count": 115,
      "outputs": [
        {
          "output_type": "stream",
          "name": "stderr",
          "text": [
            "100% (5000 of 5000) |####################| Elapsed Time: 0:11:00 Time:  0:11:00\n",
            "100% (5000 of 5000) |####################| Elapsed Time: 0:10:58 Time:  0:10:58\n",
            "100% (5000 of 5000) |####################| Elapsed Time: 0:10:57 Time:  0:10:57\n",
            "100% (5000 of 5000) |####################| Elapsed Time: 0:10:58 Time:  0:10:58\n"
          ]
        }
      ]
    },
    {
      "cell_type": "code",
      "metadata": {
        "colab": {
          "base_uri": "https://localhost:8080/",
          "height": 332
        },
        "id": "cUgyAiyFhF7U",
        "outputId": "8e58b186-afdb-4ec4-bda8-db915af9814f"
      },
      "source": [
        "results = dx.groupby('population').apply(lambda x: x.describe().loc[['mean', 'std']]).loc[['challenge', 'negi_wooldridge_2020_low_10', 'negi_wooldridge_2020_low', 'basic'][::-1]]\n",
        "display(results)"
      ],
      "execution_count": 123,
      "outputs": [
        {
          "output_type": "display_data",
          "data": {
            "text/html": [
              "<div>\n",
              "<style scoped>\n",
              "    .dataframe tbody tr th:only-of-type {\n",
              "        vertical-align: middle;\n",
              "    }\n",
              "\n",
              "    .dataframe tbody tr th {\n",
              "        vertical-align: top;\n",
              "    }\n",
              "\n",
              "    .dataframe thead th {\n",
              "        text-align: right;\n",
              "    }\n",
              "</style>\n",
              "<table border=\"1\" class=\"dataframe\">\n",
              "  <thead>\n",
              "    <tr style=\"text-align: right;\">\n",
              "      <th></th>\n",
              "      <th></th>\n",
              "      <th>sm</th>\n",
              "      <th>fra</th>\n",
              "      <th>pra</th>\n",
              "      <th>cuped</th>\n",
              "    </tr>\n",
              "    <tr>\n",
              "      <th>population</th>\n",
              "      <th></th>\n",
              "      <th></th>\n",
              "      <th></th>\n",
              "      <th></th>\n",
              "      <th></th>\n",
              "    </tr>\n",
              "  </thead>\n",
              "  <tbody>\n",
              "    <tr>\n",
              "      <th rowspan=\"2\" valign=\"top\">basic</th>\n",
              "      <th>mean</th>\n",
              "      <td>0.007441</td>\n",
              "      <td>-0.007906</td>\n",
              "      <td>-0.007897</td>\n",
              "      <td>-0.007898</td>\n",
              "    </tr>\n",
              "    <tr>\n",
              "      <th>std</th>\n",
              "      <td>0.314162</td>\n",
              "      <td>0.140524</td>\n",
              "      <td>0.140524</td>\n",
              "      <td>0.140097</td>\n",
              "    </tr>\n",
              "    <tr>\n",
              "      <th rowspan=\"2\" valign=\"top\">negi_wooldridge_2020_low</th>\n",
              "      <th>mean</th>\n",
              "      <td>0.001005</td>\n",
              "      <td>-0.001546</td>\n",
              "      <td>-0.001575</td>\n",
              "      <td>-0.002620</td>\n",
              "    </tr>\n",
              "    <tr>\n",
              "      <th>std</th>\n",
              "      <td>0.167134</td>\n",
              "      <td>0.150400</td>\n",
              "      <td>0.150633</td>\n",
              "      <td>0.150144</td>\n",
              "    </tr>\n",
              "    <tr>\n",
              "      <th rowspan=\"2\" valign=\"top\">negi_wooldridge_2020_low_10</th>\n",
              "      <th>mean</th>\n",
              "      <td>-0.006726</td>\n",
              "      <td>0.002035</td>\n",
              "      <td>-0.004972</td>\n",
              "      <td>-0.005956</td>\n",
              "    </tr>\n",
              "    <tr>\n",
              "      <th>std</th>\n",
              "      <td>0.361385</td>\n",
              "      <td>0.312394</td>\n",
              "      <td>0.337714</td>\n",
              "      <td>0.336570</td>\n",
              "    </tr>\n",
              "    <tr>\n",
              "      <th rowspan=\"2\" valign=\"top\">challenge</th>\n",
              "      <th>mean</th>\n",
              "      <td>-0.023896</td>\n",
              "      <td>0.002512</td>\n",
              "      <td>-0.025861</td>\n",
              "      <td>-0.026875</td>\n",
              "    </tr>\n",
              "    <tr>\n",
              "      <th>std</th>\n",
              "      <td>0.919826</td>\n",
              "      <td>0.459421</td>\n",
              "      <td>1.050140</td>\n",
              "      <td>1.045490</td>\n",
              "    </tr>\n",
              "  </tbody>\n",
              "</table>\n",
              "</div>"
            ],
            "text/plain": [
              "                                        sm       fra       pra     cuped\n",
              "population                                                              \n",
              "basic                       mean  0.007441 -0.007906 -0.007897 -0.007898\n",
              "                            std   0.314162  0.140524  0.140524  0.140097\n",
              "negi_wooldridge_2020_low    mean  0.001005 -0.001546 -0.001575 -0.002620\n",
              "                            std   0.167134  0.150400  0.150633  0.150144\n",
              "negi_wooldridge_2020_low_10 mean -0.006726  0.002035 -0.004972 -0.005956\n",
              "                            std   0.361385  0.312394  0.337714  0.336570\n",
              "challenge                   mean -0.023896  0.002512 -0.025861 -0.026875\n",
              "                            std   0.919826  0.459421  1.050140  1.045490"
            ]
          },
          "metadata": {}
        }
      ]
    },
    {
      "cell_type": "code",
      "metadata": {
        "colab": {
          "base_uri": "https://localhost:8080/",
          "height": 470
        },
        "id": "KIM5j4RKVPMP",
        "outputId": "2805efd2-7c84-40e4-aeef-63eed140e4c8"
      },
      "source": [
        "# Make a graph of the precision for each (population, estimator)\n",
        "precision = (1 / dx.groupby('population').std())\n",
        "precision = precision.loc[\n",
        "                          ['challenge', 'negi_wooldridge_2020_low_10', 'negi_wooldridge_2020_low', 'basic'],\n",
        "                          ['fra', 'pra', 'cuped', 'sm']\n",
        "                          ]\n",
        "precision = precision.rename(\n",
        "    index={\n",
        "        'basic': 'No heterogeneity',\n",
        "        'negi_wooldridge_2020_low': 'Negi+Wooldridge (2020) \\n (50/50 split)',\n",
        "        'negi_wooldridge_2020_low_10': 'Negi+Wooldridge (2020) \\n(90/10 split)',\n",
        "        'challenge': 'High heterogeneity'\n",
        "        },\n",
        "    columns={\n",
        "    'fra': 'Separate regression',\n",
        "     'cuped': 'CUPED',\n",
        "      'pra': 'Pooled regression',\n",
        "      'sm': 'Simple difference'\n",
        "      })\n",
        "\n",
        "with plt.style.context('seaborn-colorblind'):\n",
        "  plt.rcParams['font.size'] = '16'\n",
        "  ax = precision.plot.barh(figsize=(9, 7))\n",
        "  ax.set_xlabel(\"Precision (1/SE)\\n[higher is better]\")\n",
        "  ax.set_ylabel(\"Population\\n(data-generating process)\")\n",
        "  handles, labels = ax.get_legend_handles_labels()\n",
        "  ax.legend(reversed(handles), reversed(labels), title='Method')"
      ],
      "execution_count": 117,
      "outputs": [
        {
          "output_type": "display_data",
          "data": {
            "image/png": "[encoded data removed]",
            "text/plain": [
              "<Figure size 648x504 with 1 Axes>"
            ]
          },
          "metadata": {
            "needs_background": "light"
          }
        }
      ]
    },
    {
      "cell_type": "code",
      "metadata": {
        "id": "V4uq5xFCcpRj"
      },
      "source": [
        ""
      ],
      "execution_count": null,
      "outputs": []
    }
  ]
}